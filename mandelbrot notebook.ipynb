{
 "cells": [
  {
   "cell_type": "code",
   "execution_count": null,
   "metadata": {
    "collapsed": false
   },
   "outputs": [],
   "source": [
    "import matplotlib.pyplot as plt\n",
    "import numpy as np\n",
    "%matplotlib inline"
   ]
  },
  {
   "cell_type": "code",
   "execution_count": null,
   "metadata": {
    "collapsed": false
   },
   "outputs": [],
   "source": [
    "# inverse iteration count\n",
    "n=1000\n",
    "n2=1000\n",
    "xx = np.linspace(-2,1,n2, dtype=np.complex128)\n",
    "yy = np.linspace(-1.5j,1.5j,n, dtype=np.complex128)\n",
    "xx,yy=np.meshgrid(xx,yy)\n",
    "z0=xx+yy\n",
    "z=xx*0\n",
    "z2=xx*0\n",
    "mset=xx*0\n",
    "\n",
    "for j in range (20):\n",
    "    for k in range (2):\n",
    "        z=(z**2)+z0\n",
    "    z2=np.abs(z)>2\n",
    "    z=z*(~z2)\n",
    "    mset=mset+(z2*1)\n",
    "mset=1/(mset)\n",
    "plt.figure(figsize=(10,10),dpi=100)\n",
    "plt.imshow(np.abs(mset))\n"
   ]
  },
  {
   "cell_type": "code",
   "execution_count": null,
   "metadata": {
    "collapsed": false
   },
   "outputs": [],
   "source": [
    "## dirrect z coloring\n",
    "n=1000\n",
    "n2=1000\n",
    "xx = np.linspace(-2,1,n2, dtype=np.complex128)\n",
    "yy = np.linspace(-1.5j,1.5j,n, dtype=np.complex128)\n",
    "xx,yy=np.meshgrid(xx,yy)\n",
    "\n",
    "z0=xx+yy\n",
    "z=xx*0\n",
    "z2=xx*0\n",
    "# mset=xx*0\n",
    "\n",
    "for j in range (10):\n",
    "    for k in range (2):\n",
    "        z=(z**2)+z0\n",
    "    z2=np.abs(z)>2\n",
    "    z=z*(~z2)\n",
    "#     mset=mset+(z2*j)\n",
    "plt.figure(figsize=(10,10),dpi=100)\n",
    "plt.imshow(np.abs(z))\n",
    "# print np.abs(z)"
   ]
  },
  {
   "cell_type": "code",
   "execution_count": null,
   "metadata": {
    "collapsed": false
   },
   "outputs": [],
   "source": [
    "n=1000\n",
    "n2=1000\n",
    "xx = np.linspace(-2,1,n2, dtype=np.complex128)\n",
    "yy = np.linspace(-1.5j,1.5j,n, dtype=np.complex128)\n",
    "xx,yy=np.meshgrid(xx,yy)\n",
    "\n",
    "z0=xx+yy\n",
    "z=xx*0\n",
    "z2=xx*0\n",
    "mset=xx*0\n",
    "msetbol=xx*0\n",
    "\n",
    "for j in range (50):\n",
    "    z2=xx*0\n",
    "    for k in range (1):\n",
    "        z=(z**2)+z0\n",
    "    z2=np.abs(z)>2\n",
    "    msetbol=mset > 0\n",
    "    msetbol=(~msetbol)*z2 \n",
    "    mset=mset+(msetbol*j)\n",
    "#     msetbol=mset > 0\n",
    "    z=z*(~z2)\n",
    "    \n",
    "# mset[0:10]=20\n",
    "plt.figure(figsize=(10,10),dpi=100)\n",
    "plt.imshow(np.abs(mset))\n",
    "\n",
    "# print np.abs(z[500])\n",
    "# print mset[0]"
   ]
  },
  {
   "cell_type": "code",
   "execution_count": null,
   "metadata": {
    "collapsed": true
   },
   "outputs": [],
   "source": [
    "\n",
    "\n"
   ]
  },
  {
   "cell_type": "code",
   "execution_count": null,
   "metadata": {
    "collapsed": false
   },
   "outputs": [],
   "source": [
    "# from mpl_toolkits.mplot3d import Axes3D\n",
    "# from matplotlib import cbook\n",
    "# from matplotlib import cm\n",
    "# from matplotlib.colors import LightSource\n",
    "# import matplotlib.pyplot as plt\n",
    "# import numpy as np\n",
    "\n",
    "# # filename = cbook.get_sample_data('jacksboro_fault_dem.npz', asfileobj=False)\n",
    "# # with np.load(filename) as dem:\n",
    "# # z = dem['elevation']\n",
    "# # nrows, ncols = z.shape\n",
    "# # x = np.linspace(dem['xmin'], dem['xmax'], ncols)\n",
    "# # y = np.linspace(dem['ymin'], dem['ymax'], nrows)\n",
    "# # x, y = np.meshgrid(x, y)\n",
    "# # region = np.s_[5:50, 5:50]\n",
    "# # x, y, z = x[region], y[region], z[region]\n",
    "\n",
    "# x = np.linspace(-2,1,n2)\n",
    "# y = np.linspace(-1.5j,1.5j,n)\n",
    "# x,y=np.meshgrid(x,y)\n",
    "\n",
    "# fig, ax = plt.subplots(subplot_kw=dict(projection='3d'))\n",
    "# # ls = LightSource(270, 45)\n",
    "# # To use a custom hillshading mode, override the built-in shading and pass\n",
    "# # in the rgb colors of the shaded surface calculated from \"shade\".\n",
    "\n",
    "# # rgb = ls.shade(z, cmap=cm.gist_earth, vert_exag=0.1, blend_mode='soft')\n",
    "\n",
    "# surf = ax.plot_surface(x, y, np.abs(z), cmap='autumn',rstride=1, cstride=1, )\n",
    "# plt.show()"
   ]
  },
  {
   "cell_type": "code",
   "execution_count": null,
   "metadata": {
    "collapsed": false
   },
   "outputs": [],
   "source": [
    "## z=z**2+z0\n",
    "\n",
    "##dueling dragon -1.6735519336462-0.0003236318510i scale 16 x 10-9\n",
    "\n",
    "xcen=-1.6735519336462\n",
    "ycen=0.0003236318510\n",
    "scale=16e-9\n",
    "import time\n",
    "\n",
    "xbeg=-1.6735519336462-(scale/2)\n",
    "xend=-1.6735519336462+(scale/2)\n",
    "ybeg=0.0003236318510-(scale/2)\n",
    "yend=0.0003236318510+(scale/2)\n",
    "pi=np.pi\n",
    "n=800\n",
    "n2=800\n",
    "xx = np.linspace(xbeg,xend,n2, dtype=np.complex128)\n",
    "yy = np.linspace(ybeg*1j,yend*1j,n, dtype=np.complex128)\n",
    "xx,yy=np.meshgrid(xx,yy)\n",
    "\n",
    "z0=xx+yy\n",
    "z=xx*0\n",
    "z2=xx*0\n",
    "mset=xx*0\n",
    "msetbol=xx*0\n",
    "j=0\n",
    "qq=10000\n",
    "breakpixellim=100\n",
    "t1=time.time()\n",
    "\n",
    "qqq=np.array([1000,1000])\n",
    "\n",
    "\n",
    "while qq > breakpixellim :\n",
    "    j+=1\n",
    "    z=(z**2)+z0\n",
    "    z2=np.abs(z)>2\n",
    "    if np.sum(z2)>0:\n",
    "        jj=np.sin((2*j*pi)/100)\n",
    "        msetbol=mset > 0\n",
    "        msetbol=(~msetbol)*z2 \n",
    "        mset=mset+(msetbol*jj)\n",
    "        z=z*(~z2)\n",
    "        qq=mset==0\n",
    "        qq=np.sum(qq)\n",
    "\n",
    "print time.time()-t1, j\n",
    "# mset[0:10]=20\n",
    "plt.figure(figsize=(10,10),dpi=100)\n",
    "plt.imshow(np.abs(mset))\n",
    "\n"
   ]
  },
  {
   "cell_type": "code",
   "execution_count": null,
   "metadata": {
    "collapsed": true
   },
   "outputs": [],
   "source": [
    "# with if 3.52232313156  no if 4.10093784332 , with breax pixel limmit =3.50796699524"
   ]
  },
  {
   "cell_type": "code",
   "execution_count": null,
   "metadata": {
    "collapsed": false
   },
   "outputs": [],
   "source": []
  },
  {
   "cell_type": "code",
   "execution_count": null,
   "metadata": {
    "collapsed": false
   },
   "outputs": [],
   "source": [
    "plt.plot(qqq[120:])"
   ]
  },
  {
   "cell_type": "code",
   "execution_count": null,
   "metadata": {
    "collapsed": false
   },
   "outputs": [],
   "source": [
    "16e-9*(1.02**1000)"
   ]
  },
  {
   "cell_type": "code",
   "execution_count": null,
   "metadata": {
    "collapsed": true
   },
   "outputs": [],
   "source": []
  },
  {
   "cell_type": "code",
   "execution_count": null,
   "metadata": {
    "collapsed": false,
    "scrolled": true
   },
   "outputs": [],
   "source": [
    "## z=z**2+z0\n",
    "import time\n",
    "##dueling dragon -1.6735519336462-0.0003236318510i scale 16 x 10-9\n",
    "\n",
    "pi=np.pi\n",
    "n=800\n",
    "n2=800\n",
    "xcen=-1.6735519336462\n",
    "ycen=0.0003236318510\n",
    "scalee=16e-9\n",
    "\n",
    "for frame in range (5):\n",
    "    t1=time.time()\n",
    "    scale=scalee*(1.03**frame)\n",
    "    xbeg=-1.6735519336462-(scale/2)\n",
    "    xend=-1.6735519336462+(scale/2)\n",
    "    ybeg=0.0003236318510-(scale/2)\n",
    "    yend=0.0003236318510+(scale/2)\n",
    "    xx = np.linspace(xbeg,xend,n2, dtype=np.complex128)\n",
    "    yy = np.linspace(ybeg*1j,yend*1j,n, dtype=np.complex128)\n",
    "    xx,yy=np.meshgrid(xx,yy)\n",
    "\n",
    "    z0=xx+yy\n",
    "    z=xx*0\n",
    "    z2=xx*0\n",
    "    mset=xx*0\n",
    "    msetbol=xx*0\n",
    "    j=0\n",
    "    qq=10000\n",
    "    breakpixellim=100\n",
    "    \n",
    "\n",
    "    qqq=np.array([1000,1000])\n",
    "\n",
    "    while qq > breakpixellim :\n",
    "        j+=1\n",
    "        z=(z**2)+z0\n",
    "        z2=np.abs(z)>2\n",
    "        if np.sum(z2)>0:\n",
    "            jj=np.sin((2*j*pi)/100)\n",
    "            msetbol=mset > 0\n",
    "            msetbol=(~msetbol)*z2 \n",
    "            mset=mset+(msetbol*jj)\n",
    "            z=z*(~z2)\n",
    "            qq=mset==0\n",
    "            qq=np.sum(qq)\n",
    "    print time.time()-t1, j\n",
    "\n",
    "\n",
    "    plt.figure(figsize=(10,10),dpi=100)\n",
    "    plt.imshow(np.abs(mset))\n",
    "    plt.savefig(\"mandelborot/dueling dragon/b%s.png\"%frame,bbox_inches='tight')\n",
    "#     plt.clf()"
   ]
  },
  {
   "cell_type": "code",
   "execution_count": null,
   "metadata": {
    "collapsed": false
   },
   "outputs": [],
   "source": [
    "1.02**200"
   ]
  },
  {
   "cell_type": "code",
   "execution_count": null,
   "metadata": {
    "collapsed": false
   },
   "outputs": [],
   "source": [
    "%clear"
   ]
  },
  {
   "cell_type": "code",
   "execution_count": null,
   "metadata": {
    "collapsed": false
   },
   "outputs": [],
   "source": [
    "np.array([1,1])"
   ]
  },
  {
   "cell_type": "code",
   "execution_count": null,
   "metadata": {
    "collapsed": false
   },
   "outputs": [],
   "source": [
    "import matplotlib.pyplot as plt\n",
    "import numpy as np\n",
    "%matplotlib inline\n",
    "\n",
    "## z=z**2+z0\n",
    "##buzzsaw 0.001643721971153+0.822467633298876i scale 4 x 10-11\n",
    "##curreent best algoritm\n",
    "\n",
    "xcen=0.001643721971153\n",
    "ycen=0.822467633298876\n",
    "scale=5e-11\n",
    "import time\n",
    "\n",
    "xbeg=xcen-(scale/2)\n",
    "xend=xcen+(scale/2)\n",
    "ybeg=ycen-(scale/2)\n",
    "yend=ycen+(scale/2)\n",
    "pi=np.pi\n",
    "n=2048\n",
    "n2=2048\n",
    "xx = np.linspace(xbeg,xend,n2, dtype=np.complex128)\n",
    "yy = np.linspace(ybeg*1j,yend*1j,n, dtype=np.complex128)\n",
    "xx,yy=np.meshgrid(xx,yy)\n",
    "\n",
    "z0=xx+yy\n",
    "z=xx*0\n",
    "z2=xx*0\n",
    "mset=xx*0\n",
    "msetbol=xx*0\n",
    "j=0\n",
    "qq=10000\n",
    "breakpixellim=100\n",
    "t1=time.time()\n",
    "\n",
    "qqq=np.array([1000,1000])\n",
    "\n",
    "while qq > breakpixellim and j < 2500:\n",
    "    j+=1\n",
    "    z=(z**2)+z0\n",
    "    z2=np.abs(z)>2\n",
    "    if np.sum(z2)>0:\n",
    "        jj=np.sin((2*j*pi)/100)\n",
    "        msetbol=mset != 0\n",
    "        msetbol=(~msetbol)*z2 \n",
    "        mset=mset+(msetbol*jj)\n",
    "        z=z*(~z2)\n",
    "        qq=mset==0\n",
    "        qq=np.sum(qq)\n",
    "\n",
    "print time.time()-t1, j\n",
    "# mset[0:10]=20\n",
    "plt.figure(figsize=(32,32),dpi=100)\n",
    "plt.imshow(np.abs(mset))\n",
    "plt.savefig(\"mandelborot/buzzsaw/buzzsaw3.png\",bbox_inches='tight')\n",
    "\n",
    "\n"
   ]
  },
  {
   "cell_type": "code",
   "execution_count": null,
   "metadata": {
    "collapsed": false
   },
   "outputs": [],
   "source": [
    "import matplotlib.pyplot as plt\n",
    "import numpy as np\n",
    "%matplotlib inline\n",
    "import time\n",
    "\n",
    "## z=z**2+z0\n",
    "##current best algoritm\n",
    "\n",
    "\n",
    "\n",
    "def mand(xcen, ycen, scale, n,n2,figname,size,step,breakpixellim):\n",
    "    xbeg=xcen-(scale/2)\n",
    "    xend=xcen+(scale/2)\n",
    "    ybeg=ycen-(scale/2)\n",
    "    yend=ycen+(scale/2)\n",
    "    pi=np.pi\n",
    "\n",
    "    xx = np.linspace(xbeg,xend,n2, dtype=np.complex128)\n",
    "    yy = np.linspace(ybeg*1j,yend*1j,n, dtype=np.complex128)\n",
    "    xx,yy=np.meshgrid(xx,yy)\n",
    "\n",
    "    z0=xx+yy\n",
    "    z=xx*0\n",
    "    z2=xx*0\n",
    "    mset=xx*0\n",
    "    msetbol=xx*0\n",
    "    j=0\n",
    "    qq=10000\n",
    "    \n",
    "    t1=time.time()\n",
    "\n",
    "    qqq=np.array([1000,1000])\n",
    "\n",
    "    while qq > breakpixellim and j < step:\n",
    "        j+=1\n",
    "        z=(z**2)+z0\n",
    "        z2=np.abs(z)>2\n",
    "        if np.sum(z2)>0:\n",
    "            jj=np.sin((2*j*pi)/100)+0.000001\n",
    "            msetbol=mset != 0\n",
    "            msetbol=(~msetbol)*z2 \n",
    "            mset=mset+(msetbol*jj)\n",
    "            z=z*(~z2)\n",
    "            qq=mset==0\n",
    "            qq=np.sum(qq)\n",
    "\n",
    "    print time.time()-t1, j\n",
    "    # mset[0:10]=20\n",
    "    plt.figure(figsize=(size,size),dpi=100)\n",
    "    plt.imshow(np.abs(mset))\n",
    "    if figname != 0:\n",
    "        plt.savefig(figname,bbox_inches='tight')\n"
   ]
  },
  {
   "cell_type": "code",
   "execution_count": null,
   "metadata": {
    "collapsed": false
   },
   "outputs": [],
   "source": [
    "## interstellar dust\n",
    "xcen=-0.737527771\n",
    "ycen=-0.128495483\n",
    "scale=5e-5\n",
    "figname=\"mandelborot/other/interstellar2.png\"\n",
    "# figname=0\n",
    "size=32\n",
    "n=2048\n",
    "n2=2048\n",
    "step=4000\n",
    "breakpixellim=100\n",
    "\n",
    "mand(xcen, ycen, scale, n,n2,figname,size,step,breakpixellim)\n",
    "\n",
    "\n"
   ]
  },
  {
   "cell_type": "code",
   "execution_count": null,
   "metadata": {
    "collapsed": false
   },
   "outputs": [],
   "source": [
    "## shell\n",
    "xcen=-1.7497591451303665\n",
    "ycen=--0.000000003685138\n",
    "scale=7e-12\n",
    "figname=\"mandelborot/other/shell1.png\"\n",
    "# figname=0\n",
    "size=42\n",
    "n=3048\n",
    "n2=3048\n",
    "step=2000\n",
    "breakpixellim=100\n",
    "\n",
    "mand(xcen, ycen, scale, n,n2,figname,size,step,breakpixellim)"
   ]
  },
  {
   "cell_type": "code",
   "execution_count": null,
   "metadata": {
    "collapsed": true
   },
   "outputs": [],
   "source": []
  }
 ],
 "metadata": {
  "anaconda-cloud": {},
  "kernelspec": {
   "display_name": "Python [conda root]",
   "language": "python",
   "name": "conda-root-py"
  },
  "language_info": {
   "codemirror_mode": {
    "name": "ipython",
    "version": 2
   },
   "file_extension": ".py",
   "mimetype": "text/x-python",
   "name": "python",
   "nbconvert_exporter": "python",
   "pygments_lexer": "ipython2",
   "version": "2.7.12"
  }
 },
 "nbformat": 4,
 "nbformat_minor": 1
}
